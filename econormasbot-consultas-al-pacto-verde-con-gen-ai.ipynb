{
 "cells": [
  {
   "cell_type": "markdown",
   "id": "1c092651",
   "metadata": {
    "papermill": {
     "duration": 0.002964,
     "end_time": "2025-04-21T03:40:16.840007",
     "exception": false,
     "start_time": "2025-04-21T03:40:16.837043",
     "status": "completed"
    },
    "tags": []
   },
   "source": [
    "# 📗 *EcoNormasBot: Consultas Inteligentes sobre el Pacto Verde Europeo con IA Generativa*\n",
    "\n",
    "## ✨ Descripción General\n",
    "\n",
    "Este notebook corresponde al proyecto final del **Intensive Generative AI Capstone de 5 días**. En él se muestra cómo implementar un sistema de generación aumentada por recuperación (RAG) para facilitar la consulta de múltiples documentos oficiales de la Unión Europea relacionados con el Pacto Verde Europeo. El sistema integra **Google Gemini** para generación de texto y **FAISS** para búsqueda semántica eficiente.\n",
    "\n",
    "**Caso de uso:** Permitir a las personas interactuar con políticas públicas complejas de la UE (como reglamentos, planes estratégicos o informes de seguimiento) mediante preguntas formuladas en lenguaje natural.\n",
    "\n",
    "---\n",
    "\n",
    "## ✅ Capacidades de IA Generativa Aplicadas\n",
    "\n",
    "- **Embeddings semánticos**: generación de vectores representativos de fragmentos documentales utilizando la API de Gemini.\n",
    "- **Búsqueda Vectorial (FAISS)**: identificación rápida y precisa de contenidos relevantes a través de comparación de vectores.\n",
    "- **Generación Aumentada por Recuperación (RAG)**: uso de fragmentos recuperados como contexto para la generación de respuestas fundamentadas por un LLM.\n",
    "- **Comprensión de Documentos Normativos**: respuestas contextuales basadas en documentos de políticas públicas reales.\n",
    "\n",
    "---\n",
    "\n",
    "## 📄 Documentos de Referencia\n",
    "\n",
    "El sistema opera con tres documentos oficiales y accesibles públicamente de la Unión Europea:\n",
    "\n",
    "1. **Comunicación sobre el Pacto Verde Europeo (2019)**  \n",
    "2. **Plan Industrial del Pacto Verde (2023)** – COM(2023) 62 final  \n",
    "3. **Informe de seguimiento del Pacto Verde (2023)** – JRC140372  \n",
    "\n",
    "Cada documento es procesado, dividido en fragmentos y acompañado de metadatos relevantes (título y número de página).\n",
    "\n",
    "---\n",
    "\n",
    "## 🚀 Funcionamiento del Sistema\n",
    "\n",
    "1. Se cargan los archivos PDF y se fragmentan en secciones con superposición.\n",
    "2. Cada fragmento se transforma en un embedding mediante la API de Gemini.\n",
    "3. Los vectores resultantes se indexan utilizando FAISS.\n",
    "4. Ante una consulta del usuario:\n",
    "   - El sistema recupera los fragmentos más pertinentes.\n",
    "   - Gemini Pro genera una respuesta precisa fundamentada en dichos fragmentos.\n",
    "   - La respuesta final incluye las **fuentes** (documento y página correspondiente).\n",
    "\n",
    "---\n",
    "\n",
    "ℹ️ En la sección 5 encontrarás ejemplos de preguntas que puedes realizar al sistema.\n",
    "\n",
    "➡️ ¡Pasemos al código!\n"
   ]
  },
  {
   "cell_type": "markdown",
   "id": "81b5652c",
   "metadata": {
    "papermill": {
     "duration": 0.002039,
     "end_time": "2025-04-21T03:40:16.844561",
     "exception": false,
     "start_time": "2025-04-21T03:40:16.842522",
     "status": "completed"
    },
    "tags": []
   },
   "source": [
    "## 📥 1. Cargar Documentos PDF\n",
    "\n",
    "En esta sección se cargan tres documentos oficiales de la Unión Europea relacionados con el Pacto Verde Europeo, en formato PDF.  \n",
    "Utilizamos la biblioteca `PyMuPDF` para extraer el texto página por página, conservando tanto el título del documento como el número de página para referencias posteriores.\n",
    "\n",
    "Este paso prepara los datos para las siguientes etapas de fragmentación (chunking) e indexación semántica."
   ]
  },
  {
   "cell_type": "code",
   "execution_count": 1,
   "id": "2b756058",
   "metadata": {
    "execution": {
     "iopub.execute_input": "2025-04-21T03:40:16.850077Z",
     "iopub.status.busy": "2025-04-21T03:40:16.849802Z",
     "iopub.status.idle": "2025-04-21T03:40:22.311792Z",
     "shell.execute_reply": "2025-04-21T03:40:22.311125Z"
    },
    "papermill": {
     "duration": 5.466504,
     "end_time": "2025-04-21T03:40:22.313290",
     "exception": false,
     "start_time": "2025-04-21T03:40:16.846786",
     "status": "completed"
    },
    "tags": []
   },
   "outputs": [
    {
     "name": "stdout",
     "output_type": "stream",
     "text": [
      "\u001b[2K   \u001b[90m━━━━━━━━━━━━━━━━━━━━━━━━━━━━━━━━━━━━━━━━\u001b[0m \u001b[32m20.0/20.0 MB\u001b[0m \u001b[31m83.4 MB/s\u001b[0m eta \u001b[36m0:00:00\u001b[0m\r\n",
      "\u001b[?25h"
     ]
    }
   ],
   "source": [
    "# -------------------------\n",
    "# 1. Cargar Documentos PDF\n",
    "# -------------------------\n",
    "\n",
    "# Instalamos la biblioteca necesaria para trabajar con archivos PDF\n",
    "!pip install -q pymupdf\n",
    "\n",
    "import fitz  # PyMuPDF\n",
    "\n",
    "# Función para extraer el texto de un PDF, página por página\n",
    "def extract_text_from_pdf(pdf_path):\n",
    "    doc = fitz.open(pdf_path)\n",
    "    return [page.get_text() for page in doc]\n",
    "\n",
    "# Rutas a los documentos PDF oficiales cargados en el entorno\n",
    "pdf_paths = {\n",
    "    \"Pacto Verde 2019\": \"/kaggle/input/europeangreendealdocs/cellar_b828d165-1c22-11ea-8c1f-01aa75ed71a1.0002.02_DOC_1.pdf\",\n",
    "    \"Plan Industrial 2023\": \"/kaggle/input/europeangreendealdocs/CELEX_52023DC0062_EN_TXT.pdf\",\n",
    "    \"Informe de Progreso 2023\": \"/kaggle/input/europeangreendealdocs/JRC140372_01.pdf\"\n",
    "}\n"
   ]
  },
  {
   "cell_type": "markdown",
   "id": "1f6bdeb1",
   "metadata": {
    "papermill": {
     "duration": 0.00241,
     "end_time": "2025-04-21T03:40:22.318684",
     "exception": false,
     "start_time": "2025-04-21T03:40:22.316274",
     "status": "completed"
    },
    "tags": []
   },
   "source": [
    "## ✂️ 2. Fragmentar el Texto Combinado\n",
    "\n",
    "Dividimos cada documento en fragmentos de texto con superposición para preservar el contexto y mejorar la calidad de los embeddings.  \n",
    "Cada fragmento se etiqueta con su fuente original (nombre del documento y número de página), lo que permite citar adecuadamente el origen de cualquier respuesta generada más adelante.\n"
   ]
  },
  {
   "cell_type": "code",
   "execution_count": 2,
   "id": "a73c728d",
   "metadata": {
    "execution": {
     "iopub.execute_input": "2025-04-21T03:40:22.324609Z",
     "iopub.status.busy": "2025-04-21T03:40:22.324402Z",
     "iopub.status.idle": "2025-04-21T03:40:23.600020Z",
     "shell.execute_reply": "2025-04-21T03:40:23.599226Z"
    },
    "papermill": {
     "duration": 1.280184,
     "end_time": "2025-04-21T03:40:23.601343",
     "exception": false,
     "start_time": "2025-04-21T03:40:22.321159",
     "status": "completed"
    },
    "tags": []
   },
   "outputs": [
    {
     "name": "stdout",
     "output_type": "stream",
     "text": [
      "Número total de fragmentos generados: 1699\n"
     ]
    }
   ],
   "source": [
    "# -------------------------\n",
    "# 2. Fragmentar el Texto Combinado\n",
    "# -------------------------\n",
    "\n",
    "# Definimos listas para almacenar los fragmentos de texto y sus fuentes\n",
    "chunks = []\n",
    "chunk_sources = []\n",
    "\n",
    "# Tamaño de cada fragmento (número de caracteres) y solapamiento entre fragmentos\n",
    "chunk_size = 500\n",
    "overlap = 100\n",
    "\n",
    "# Extraemos y fragmentamos el texto de cada documento, asociando la fuente (nombre del documento + página)\n",
    "for label, path in pdf_paths.items():\n",
    "    pages = extract_text_from_pdf(path)\n",
    "    for page_num, text in enumerate(pages):\n",
    "        start = 0\n",
    "        while start < len(text):\n",
    "            end = start + chunk_size\n",
    "            chunk = text[start:end]\n",
    "            source = f\"{label}, página {page_num + 1}\"\n",
    "            chunks.append((chunk, source))\n",
    "            start += chunk_size - overlap\n",
    "\n",
    "# Mostramos el total de fragmentos generados\n",
    "print(f\"Número total de fragmentos generados: {len(chunks)}\")\n",
    "\n"
   ]
  },
  {
   "cell_type": "markdown",
   "id": "410337b2",
   "metadata": {
    "papermill": {
     "duration": 0.003691,
     "end_time": "2025-04-21T03:40:23.607942",
     "exception": false,
     "start_time": "2025-04-21T03:40:23.604251",
     "status": "completed"
    },
    "tags": []
   },
   "source": [
    "## 🔗 3. Generar Embeddings con la API de Gemini\n",
    "\n",
    "Utilizamos el modelo `embedding-001` de Gemini para convertir cada fragmento de texto en una representación vectorial.  \n",
    "Estos embeddings permiten realizar búsquedas por similitud y localizar posteriormente los pasajes más relevantes en función de la consulta del usuario.\n"
   ]
  },
  {
   "cell_type": "code",
   "execution_count": 3,
   "id": "0be36b0d",
   "metadata": {
    "execution": {
     "iopub.execute_input": "2025-04-21T03:40:23.613853Z",
     "iopub.status.busy": "2025-04-21T03:40:23.613628Z",
     "iopub.status.idle": "2025-04-21T03:47:47.650651Z",
     "shell.execute_reply": "2025-04-21T03:47:47.649769Z"
    },
    "papermill": {
     "duration": 444.041752,
     "end_time": "2025-04-21T03:47:47.652260",
     "exception": false,
     "start_time": "2025-04-21T03:40:23.610508",
     "status": "completed"
    },
    "tags": []
   },
   "outputs": [
    {
     "name": "stdout",
     "output_type": "stream",
     "text": [
      "\u001b[2K   \u001b[90m━━━━━━━━━━━━━━━━━━━━━━━━━━━━━━━━━━━━━━━━\u001b[0m \u001b[32m155.4/155.4 kB\u001b[0m \u001b[31m5.4 MB/s\u001b[0m eta \u001b[36m0:00:00\u001b[0m\r\n",
      "\u001b[?25h"
     ]
    }
   ],
   "source": [
    "# -------------------------\n",
    "# 3. Generar Embeddings con la API de Gemini\n",
    "# -------------------------\n",
    "\n",
    "# Instalamos la biblioteca oficial de Google Generative AI\n",
    "!pip install -U -q google-generativeai\n",
    "\n",
    "import google.generativeai as genai\n",
    "import numpy as np\n",
    "\n",
    "# Obtenemos la clave secreta de la API desde el entorno seguro de Kaggle\n",
    "from kaggle_secrets import UserSecretsClient\n",
    "user_secrets = UserSecretsClient()\n",
    "secret_value_0 = user_secrets.get_secret(\"GOOGLE_API_KEY\")\n",
    "\n",
    "# Configuramos la API de Gemini con la clave obtenida\n",
    "genai.configure(api_key=secret_value_0)\n",
    "\n",
    "# Función que obtiene el embedding de un fragmento de texto utilizando Gemini\n",
    "def get_google_embedding(text):\n",
    "    response = genai.embed_content(\n",
    "        model=\"models/embedding-001\",\n",
    "        content=text,\n",
    "        task_type=\"retrieval_document\"\n",
    "    )\n",
    "    return response[\"embedding\"]\n",
    "\n",
    "# Generamos los embeddings para todos los fragmentos\n",
    "embeddings = []\n",
    "for i, (chunk, _) in enumerate(chunks):\n",
    "    try:\n",
    "        emb = get_google_embedding(chunk)\n",
    "        embeddings.append(emb)\n",
    "    except Exception as e:\n",
    "        # Si ocurre un error, añadimos un vector nulo y lo notificamos\n",
    "        print(f\"Error en el fragmento {i}: {e}\")\n",
    "        embeddings.append([0.0] * 768)\n",
    "\n",
    "\n"
   ]
  },
  {
   "cell_type": "markdown",
   "id": "764891c7",
   "metadata": {
    "papermill": {
     "duration": 0.002546,
     "end_time": "2025-04-21T03:47:47.657968",
     "exception": false,
     "start_time": "2025-04-21T03:47:47.655422",
     "status": "completed"
    },
    "tags": []
   },
   "source": [
    "## 📚 4. Indexar los Fragmentos con FAISS\n",
    "\n",
    "Utilizamos la biblioteca FAISS (desarrollada por Facebook) para construir un índice vectorial en memoria.  \n",
    "Este índice permite recuperar de forma rápida y eficiente los fragmentos de texto más relevantes desde el punto de vista semántico, en función de las preguntas formuladas por el usuario.  \n",
    "La búsqueda de similitud se basa en la distancia L2."
   ]
  },
  {
   "cell_type": "code",
   "execution_count": 4,
   "id": "0db8ae05",
   "metadata": {
    "execution": {
     "iopub.execute_input": "2025-04-21T03:47:47.664023Z",
     "iopub.status.busy": "2025-04-21T03:47:47.663766Z",
     "iopub.status.idle": "2025-04-21T03:47:52.229251Z",
     "shell.execute_reply": "2025-04-21T03:47:52.228129Z"
    },
    "papermill": {
     "duration": 4.570747,
     "end_time": "2025-04-21T03:47:52.231253",
     "exception": false,
     "start_time": "2025-04-21T03:47:47.660506",
     "status": "completed"
    },
    "tags": []
   },
   "outputs": [
    {
     "name": "stdout",
     "output_type": "stream",
     "text": [
      "\u001b[2K   \u001b[90m━━━━━━━━━━━━━━━━━━━━━━━━━━━━━━━━━━━━━━━━\u001b[0m \u001b[32m30.7/30.7 MB\u001b[0m \u001b[31m55.0 MB/s\u001b[0m eta \u001b[36m0:00:00\u001b[0m\r\n",
      "\u001b[?25h"
     ]
    }
   ],
   "source": [
    "# -------------------------\n",
    "# 4. Indexar los Fragmentos con FAISS\n",
    "# -------------------------\n",
    "\n",
    "# Instalamos la versión de FAISS optimizada para CPU\n",
    "!pip install -q faiss-cpu\n",
    "\n",
    "import faiss\n",
    "\n",
    "# Obtenemos la dimensión de los vectores de embedding generados\n",
    "embedding_dim = len(embeddings[0])\n",
    "\n",
    "# Convertimos la lista de embeddings a una matriz NumPy en formato float32 (requerido por FAISS)\n",
    "embedding_matrix = np.array(embeddings).astype(\"float32\")\n",
    "\n",
    "# Creamos un índice plano basado en distancia L2 (euclidiana)\n",
    "index = faiss.IndexFlatL2(embedding_dim)\n",
    "\n",
    "# Añadimos la matriz de embeddings al índice\n",
    "index.add(embedding_matrix)\n",
    "\n"
   ]
  },
  {
   "cell_type": "markdown",
   "id": "9d562155",
   "metadata": {
    "papermill": {
     "duration": 0.003793,
     "end_time": "2025-04-21T03:47:52.241200",
     "exception": false,
     "start_time": "2025-04-21T03:47:52.237407",
     "status": "completed"
    },
    "tags": []
   },
   "source": [
    "## 💬 5. RAG: Consultar con Gemini\n",
    "\n",
    "Esta es la fase central del sistema RAG (Generación Aumentada por Recuperación).\n",
    "\n",
    "Para cada pregunta del usuario:\n",
    "1. Se genera el embedding de la pregunta.\n",
    "2. Se consulta el índice FAISS para recuperar los fragmentos más relevantes.\n",
    "3. Se combina el contexto recuperado con la pregunta y se envía a Gemini Pro para generar una respuesta.\n",
    "4. Se añaden citas de las fuentes correspondientes utilizando los metadatos de los fragmentos.\n"
   ]
  },
  {
   "cell_type": "code",
   "execution_count": 5,
   "id": "b02229da",
   "metadata": {
    "execution": {
     "iopub.execute_input": "2025-04-21T03:47:52.250686Z",
     "iopub.status.busy": "2025-04-21T03:47:52.249992Z",
     "iopub.status.idle": "2025-04-21T03:47:52.258725Z",
     "shell.execute_reply": "2025-04-21T03:47:52.257894Z"
    },
    "papermill": {
     "duration": 0.014267,
     "end_time": "2025-04-21T03:47:52.260465",
     "exception": false,
     "start_time": "2025-04-21T03:47:52.246198",
     "status": "completed"
    },
    "tags": []
   },
   "outputs": [],
   "source": [
    "\n",
    "# -------------------------\n",
    "# 5. RAG: Consultar con Gemini\n",
    "# -------------------------\n",
    "\n",
    "# Cargamos el modelo generativo más reciente de Gemini 1.5 Pro\n",
    "rag_model = genai.GenerativeModel(model_name=\"models/gemini-1.5-pro-latest\")\n",
    "\n",
    "# Función para buscar los fragmentos más similares a una consulta del usuario\n",
    "def search_similar_chunks(query, top_k=10):\n",
    "    query_emb = np.array([get_google_embedding(query)], dtype='float32')  # Genera embedding de la consulta\n",
    "    distances, indices = index.search(query_emb, top_k)  # Busca los fragmentos más cercanos en el índice FAISS\n",
    "    return [chunks[i] for i in indices[0]]  # Devuelve los fragmentos correspondientes\n",
    "\n",
    "# Función principal para responder una pregunta con contexto (RAG)\n",
    "def ask_with_context(query, top_k=10):\n",
    "    selected = search_similar_chunks(query, top_k)  # Recupera los fragmentos más relevantes\n",
    "    context = \"\\n\\n\".join([chunk for chunk, _ in selected])  # Une los textos para usarlos como contexto\n",
    "    sources = set([source for _, source in selected])  # Extrae las fuentes para citarlas\n",
    "\n",
    "    # Prompt para Gemini: respuesta basada estrictamente en el contexto proporcionado\n",
    "    prompt = f\"\"\"\n",
    "Eres un asistente que responde preguntas sobre el Pacto Verde Europeo, utilizando únicamente documentos oficiales.\n",
    "\n",
    "Responde de forma objetiva, sin especulación. Cita programas específicos, sectores, fechas o cifras cuando sea posible.\n",
    "\n",
    "Contexto:\n",
    "{context}\n",
    "\n",
    "Pregunta:\n",
    "{query}\n",
    "\n",
    "Respuesta:\n",
    "\"\"\"\n",
    "    # Genera la respuesta con Gemini\n",
    "    response = rag_model.generate_content(prompt)\n",
    "\n",
    "    # Añade una nota con las fuentes utilizadas tipo lista\n",
    "    source_note = \"\\n\\nFuentes:\\n\" + \"\\n\".join(f\"- {src}\" for src in sorted(set(sources)))\n",
    "    return response.text + source_note\n",
    "\n",
    "\n"
   ]
  },
  {
   "cell_type": "markdown",
   "id": "7fc1f950",
   "metadata": {
    "papermill": {
     "duration": 0.004512,
     "end_time": "2025-04-21T03:47:52.270159",
     "exception": false,
     "start_time": "2025-04-21T03:47:52.265647",
     "status": "completed"
    },
    "tags": []
   },
   "source": [
    "## 💬 Escribe tu pregunta o utiliza alguno de los ejemplos a continuación\n"
   ]
  },
  {
   "cell_type": "code",
   "execution_count": 6,
   "id": "acc34b35",
   "metadata": {
    "execution": {
     "iopub.execute_input": "2025-04-21T03:47:52.280791Z",
     "iopub.status.busy": "2025-04-21T03:47:52.280149Z",
     "iopub.status.idle": "2025-04-21T03:48:02.110933Z",
     "shell.execute_reply": "2025-04-21T03:48:02.110018Z"
    },
    "papermill": {
     "duration": 9.836481,
     "end_time": "2025-04-21T03:48:02.112143",
     "exception": false,
     "start_time": "2025-04-21T03:47:52.275662",
     "status": "completed"
    },
    "tags": []
   },
   "outputs": [
    {
     "name": "stdout",
     "output_type": "stream",
     "text": [
      "El Pacto Verde Europeo busca transformar la UE en una economía moderna, eficiente en el uso de los recursos y competitiva que garantice lo siguiente:\n",
      "\n",
      "* **No haya emisiones netas de gases de efecto invernadero en 2050.**  (Esto está establecido en la [Comunicación de la Comisión al Parlamento Europeo, al Consejo Europeo, al Consejo, al Comité Económico y Social Europeo y al Comité de las Regiones  El Pacto Verde Europeo COM(2019) 640 final](https://eur-lex.europa.eu/legal-content/ES/TXT/?uri=CELEX%3A52019DC0640)).\n",
      "\n",
      "* **El desacoplamiento del crecimiento económico del uso de los recursos.**\n",
      "\n",
      "* **Que ninguna persona ni ningún lugar se quede atrás.**\n",
      "\n",
      "Adicionalmente, el Plan de Acción \"Hacia una contaminación cero del aire, el agua y el suelo\" [COM(2021) 245 final], un componente clave del Pacto Verde Europeo, establece objetivos clave para 2030 para acelerar la reducción de la contaminación en su origen:\n",
      "\n",
      "* **Mejorar la calidad del aire para reducir el número de muertes prematuras causadas por la contaminación atmosférica en un 55 %.**\n",
      "* **Mejorar la calidad del agua reduciendo los residuos, los residuos plásticos en el mar (en un 50 %) y los microplásticos liberados al medio ambiente (en un 30 %).**\n",
      "* **Mejorar la calidad del suelo reduciendo las pérdidas de nutrientes y el uso de plaguicidas químicos en un 50 %.**\n",
      "* **Reducir en un 25 % los ecosistemas de la UE donde la contaminación atmosférica amenaza la biodiversidad.**\n",
      "* **Reducir el porcentaje de personas crónicamente perturbadas por el ruido del transporte en un 30 %.**\n",
      "* **Reducir significativamente la generación de residuos y en un 50 % los residuos municipales residuales.**\n",
      "\n",
      "\n",
      "El texto proporcionado también menciona objetivos relacionados con la biodiversidad, los océanos y los suelos, pero no los detalla completamente.  Se infiere que estos temas son parte integral del Pacto Verde, pero sin acceso a los documentos completos de la  \"Estrategia de Biodiversidad de la UE\", el \"Pacto por los Océanos\" y la \"Estrategia de la UE para el Suelo\" no es posible enumerar objetivos específicos con precisión.\n",
      "\n",
      "\n",
      "Fuentes:\n",
      "- Informe de Progreso 2023, página 1\n",
      "- Informe de Progreso 2023, página 102\n",
      "- Informe de Progreso 2023, página 118\n",
      "- Informe de Progreso 2023, página 119\n",
      "- Informe de Progreso 2023, página 25\n",
      "- Informe de Progreso 2023, página 26\n",
      "- Informe de Progreso 2023, página 41\n",
      "- Informe de Progreso 2023, página 62\n",
      "- Informe de Progreso 2023, página 88\n"
     ]
    }
   ],
   "source": [
    "# Preguntas de ejemplo que puedes probar\n",
    "sample_questions = [\n",
    "    \"¿Cuáles son los principales objetivos del Pacto Verde Europeo?\",\n",
    "    \"¿Qué sectores industriales están priorizados en el Plan Industrial del Pacto Verde?\",\n",
    "    \"¿Qué avances se han reportado hasta 2023 en la implementación del Pacto Verde?\",\n",
    "    \"¿Qué medidas propone la UE para alcanzar la neutralidad climática?\",\n",
    "    \"¿Qué papel juegan las energías renovables en el Pacto Verde Europeo?\"\n",
    "]\n",
    "\n",
    "# Prueba una de las preguntas\n",
    "print(ask_with_context(sample_questions[0]))\n"
   ]
  },
  {
   "cell_type": "markdown",
   "id": "3e023540",
   "metadata": {
    "papermill": {
     "duration": 0.002902,
     "end_time": "2025-04-21T03:48:02.118291",
     "exception": false,
     "start_time": "2025-04-21T03:48:02.115389",
     "status": "completed"
    },
    "tags": []
   },
   "source": [
    "## 💬 Algunas preguntas adicionales de ejemplo\n",
    "\n",
    "* ¿Cuáles son los pilares principales del Pacto Verde en la UE?\n",
    "* ¿Qué sectores han mostrado mayores avances hacia los objetivos del Pacto Verde?\n",
    "* ¿Qué mecanismos de financiación se proponen en el marco del Pacto Verde Europeo?\n"
   ]
  }
 ],
 "metadata": {
  "kaggle": {
   "accelerator": "gpu",
   "dataSources": [
    {
     "sourceId": 97258,
     "sourceType": "competition"
    },
    {
     "datasetId": 7187447,
     "sourceId": 11469255,
     "sourceType": "datasetVersion"
    }
   ],
   "dockerImageVersionId": 31011,
   "isGpuEnabled": true,
   "isInternetEnabled": true,
   "language": "python",
   "sourceType": "notebook"
  },
  "kernelspec": {
   "display_name": "Python 3",
   "language": "python",
   "name": "python3"
  },
  "language_info": {
   "codemirror_mode": {
    "name": "ipython",
    "version": 3
   },
   "file_extension": ".py",
   "mimetype": "text/x-python",
   "name": "python",
   "nbconvert_exporter": "python",
   "pygments_lexer": "ipython3",
   "version": "3.11.11"
  },
  "papermill": {
   "default_parameters": {},
   "duration": 472.343644,
   "end_time": "2025-04-21T03:48:05.235089",
   "environment_variables": {},
   "exception": null,
   "input_path": "__notebook__.ipynb",
   "output_path": "__notebook__.ipynb",
   "parameters": {},
   "start_time": "2025-04-21T03:40:12.891445",
   "version": "2.6.0"
  }
 },
 "nbformat": 4,
 "nbformat_minor": 5
}
